{
 "cells": [
  {
   "cell_type": "code",
   "execution_count": 1,
   "metadata": {},
   "outputs": [],
   "source": [
    "import random\n",
    "import numpy as np\n",
    "from matplotlib import pyplot as plt"
   ]
  },
  {
   "cell_type": "code",
   "execution_count": 2,
   "metadata": {},
   "outputs": [],
   "source": [
    "class Deck:\n",
    "    \"\"\"\n",
    "    Object representing a deck of cards with values between [1, 10] with 3 added face cards. All cards will have\n",
    "    an equal chance at getting drawn, simulating a continuous shoe.\n",
    "    \"\"\"\n",
    "    \n",
    "    def __init__(self):\n",
    "        self.cards = list(np.arange(10) + 1) + [10, 10, 10]\n",
    "        \n",
    "    def draw(self, n_cards=1):\n",
    "        return random.sample(self.cards, n_cards)"
   ]
  },
  {
   "cell_type": "code",
   "execution_count": 3,
   "metadata": {},
   "outputs": [],
   "source": [
    "class Game:\n",
    "    blackjack = 21\n",
    "    \n",
    "    def __init__(self, deck, debug=False):\n",
    "        self.debug = debug\n",
    "        \n",
    "        self.deck = deck\n",
    "        self.winner = -1\n",
    "        \n",
    "        # dealer is an inherent part of the game\n",
    "        self.dealer = Dealer(\"Dealer\")\n",
    "        \n",
    "    def game_over(self, player):\n",
    "        if player.total > 21:\n",
    "            winner = self.dealer\n",
    "        else:\n",
    "            winner = self.dealer if (self.dealer.total % 22) >= (player.total % 22) else player\n",
    "        \n",
    "        if self.debug:\n",
    "            print(f\"Winner is {winner.name}\")\n",
    "            print(self.dealer)\n",
    "            print(player)\n",
    "            print()\n",
    "        \n",
    "        player.clear()\n",
    "        \n",
    "        if winner.name == \"Dealer\":\n",
    "            return 0\n",
    "        else:\n",
    "            return 1\n",
    "      \n",
    "    def deal(self, p):\n",
    "        while p.hit(self.dealer.hand[0]):\n",
    "            p.hand += self.deck.draw()\n",
    "                \n",
    "    def play(self, *players):\n",
    "        if self.debug:\n",
    "            for p in players:\n",
    "                print(p)\n",
    "    \n",
    "        self.dealer.hand += self.deck.draw(2)\n",
    "        \n",
    "        for player in players:\n",
    "            player.hand += self.deck.draw(2)\n",
    "            self.deal(player)\n",
    "        \n",
    "        self.deal(self.dealer)\n",
    "        \n",
    "        winners = []\n",
    "        for player in players:\n",
    "            result = self.game_over(player)\n",
    "            winners.append(result)\n",
    "        \n",
    "        self.dealer.clear()\n",
    "        return winners"
   ]
  },
  {
   "cell_type": "code",
   "execution_count": 4,
   "metadata": {},
   "outputs": [],
   "source": [
    "class Player:\n",
    "    def __init__(self, name):\n",
    "        self.name = name\n",
    "        self.hand = []\n",
    "        \n",
    "    def __add__(self, other):\n",
    "        if type(other) != list:\n",
    "            try:\n",
    "                other = list(other)\n",
    "            except Exception as e:\n",
    "                raise e\n",
    "        return self.hand + other\n",
    "        \n",
    "    @property\n",
    "    def total(self):\n",
    "        return sum(self.hand)\n",
    "\n",
    "    def hit(self, dealer_card):\n",
    "        \"\"\"Logic method. Return True for hit, False for stay\"\"\"\n",
    "        raise NotImplementedError(\"Overwrite me!\")\n",
    "    \n",
    "    def clear(self):\n",
    "        self.hand = []"
   ]
  },
  {
   "cell_type": "code",
   "execution_count": 24,
   "metadata": {},
   "outputs": [],
   "source": [
    "class Dealer(Player):\n",
    "    def __str__(self):\n",
    "        return f\"Dealer {self.name} : {self.hand} : {self.total}\"\n",
    "    \n",
    "    def hit(self, dealer_card):\n",
    "        if self.total < 17:\n",
    "            return True\n",
    "        else:\n",
    "            return False\n",
    "\n",
    "class NaivePlayer(Player):\n",
    "    def __str__(self):\n",
    "        return f\"Naive {self.name} : {self.hand} : {self.total}\"\n",
    "    \n",
    "    def hit(self, dealer_card):\n",
    "        if self.total <= 15:\n",
    "            return True\n",
    "        else:\n",
    "            return False\n",
    "        \n",
    "class SmartPlayer(Player):    \n",
    "    def __str__(self):\n",
    "        return f\"Smart {self.name} : {self.hand} : {self.total}\"\n",
    "    \n",
    "    def hit(self, dealer_card):\n",
    "        if dealer_card > 8:\n",
    "            thresh = 18\n",
    "        else:\n",
    "            thresh = 12\n",
    "        \n",
    "        if self.total <= thresh:\n",
    "            return True"
   ]
  },
  {
   "cell_type": "code",
   "execution_count": 25,
   "metadata": {},
   "outputs": [],
   "source": [
    "d = Deck()\n",
    "p1 = SmartPlayer(\"Player\")\n",
    "p2 = NaivePlayer(\"Player2\")\n",
    "p3 = NaivePlayer(\"Player3\")"
   ]
  },
  {
   "cell_type": "code",
   "execution_count": 30,
   "metadata": {},
   "outputs": [
    {
     "name": "stdout",
     "output_type": "stream",
     "text": [
      "Smart Player : [] : 0\n",
      "Naive Player2 : [] : 0\n",
      "10\n",
      "10\n",
      "Winner is Dealer\n",
      "Dealer Dealer : [10, 3, 10] : 23\n",
      "Smart Player : [10, 5, 10] : 25\n",
      "\n",
      "Winner is Player2\n",
      "Dealer Dealer : [10, 3, 10] : 23\n",
      "Naive Player2 : [7, 10] : 17\n",
      "\n"
     ]
    },
    {
     "data": {
      "text/plain": [
       "[0, 1]"
      ]
     },
     "execution_count": 30,
     "metadata": {},
     "output_type": "execute_result"
    }
   ],
   "source": [
    "g = Game(d, debug=True)\n",
    "g.play(p1, p2)"
   ]
  },
  {
   "cell_type": "code",
   "execution_count": 22,
   "metadata": {},
   "outputs": [],
   "source": [
    "g = Game(d)\n",
    "results = []\n",
    "p1 = SmartPlayer(\"Player\")\n",
    "for _ in range(10000):\n",
    "    results.append(g.play(p1))\n",
    "results = np.ravel(results)"
   ]
  },
  {
   "cell_type": "code",
   "execution_count": 23,
   "metadata": {},
   "outputs": [
    {
     "data": {
      "image/png": "[encoded data removed]",
      "text/plain": [
       "<Figure size 432x288 with 1 Axes>"
      ]
     },
     "metadata": {},
     "output_type": "display_data"
    },
    {
     "name": "stdout",
     "output_type": "stream",
     "text": [
      "Dealer wins 59.0%\n",
      "Player wins 41.0%\n"
     ]
    }
   ],
   "source": [
    "plt.hist(results)\n",
    "plt.show()\n",
    "\n",
    "games = len(results)\n",
    "player_wins = sum(results)\n",
    "dealer_wins = games - player_wins\n",
    "\n",
    "print(f\"Dealer wins {round((dealer_wins/games)*100)}%\")\n",
    "print(f\"Player wins {round((player_wins/games)*100)}%\")"
   ]
  },
  {
   "cell_type": "code",
   "execution_count": null,
   "metadata": {},
   "outputs": [],
   "source": []
  }
 ],
 "metadata": {
  "kernelspec": {
   "display_name": "Python 3",
   "language": "python",
   "name": "python3"
  },
  "language_info": {
   "codemirror_mode": {
    "name": "ipython",
    "version": 3
   },
   "file_extension": ".py",
   "mimetype": "text/x-python",
   "name": "python",
   "nbconvert_exporter": "python",
   "pygments_lexer": "ipython3",
   "version": "3.6.5"
  }
 },
 "nbformat": 4,
 "nbformat_minor": 2
}
